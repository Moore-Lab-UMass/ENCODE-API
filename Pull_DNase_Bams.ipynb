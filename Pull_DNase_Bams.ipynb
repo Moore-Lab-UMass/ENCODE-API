{
  "nbformat": 4,
  "nbformat_minor": 0,
  "metadata": {
    "colab": {
      "name": "Pull-DNase-Bams.ipynb",
      "provenance": [],
      "authorship_tag": "ABX9TyOQrCHA0zWDAKOyX83+A4RH",
      "include_colab_link": true
    },
    "kernelspec": {
      "name": "python3",
      "display_name": "Python 3"
    },
    "language_info": {
      "name": "python"
    }
  },
  "cells": [
    {
      "cell_type": "markdown",
      "metadata": {
        "id": "view-in-github",
        "colab_type": "text"
      },
      "source": [
        "<a href=\"https://colab.research.google.com/github/Moore-Lab-UMass/ENCODE-API/blob/main/Pull_DNase_Bams.ipynb\" target=\"_parent\"><img src=\"https://colab.research.google.com/assets/colab-badge.svg\" alt=\"Open In Colab\"/></a>"
      ]
    },
    {
      "cell_type": "code",
      "source": [
        "#Jill E. Moore\n",
        "#Moore Lab - UMass Chan Medical School\n",
        "#May 2022\n",
        "\n",
        "import os\n",
        "import json\n",
        "import urllib\n",
        "from urllib import request, parse, error\n",
        "import requests"
      ],
      "metadata": {
        "id": "bJChV8-FJu0k"
      },
      "execution_count": 17,
      "outputs": []
    },
    {
      "cell_type": "code",
      "source": [
        "def Download_File(name, extension, outputDir): #downloads file to local machine\n",
        "    if not os.path.exists(outputDir+\"/\"+name+\".\"+extension):\n",
        "        url=\"https://www.encodeproject.org/files/\"+name+\"/@@download/\"+name+\".\"+extension\n",
        "        r = requests.get(url)\n",
        "        outputFile=open(outputDir+\"/\"+name+\".\"+extension, \"wb\")\n",
        "        outputFile.write(r.content)\n",
        "        outputFile.close()"
      ],
      "metadata": {
        "id": "SQP5u0jwJ9jh"
      },
      "execution_count": 18,
      "outputs": []
    },
    {
      "cell_type": "code",
      "execution_count": 19,
      "metadata": {
        "id": "BFUsSTWg9Smx"
      },
      "outputs": [],
      "source": [
        "def Extract_Experiment_Metatdata(exp, genome): #extracts experiment metadata\n",
        "  urlExp = \"https://www.encodeproject.org/experiments/\"+exp+\"/?format=json\"\n",
        "  response = urllib.request.urlopen(urlExp)\n",
        "  data = json.loads(response.read())\n",
        "\n",
        "  rfa = data[\"award\"][\"rfa\"] #project/phase of encode\n",
        "  lab = data[\"lab\"][\"title\"] #lab that submitted the experiment\n",
        "  biosample = data[\"biosample_ontology\"][\"term_name\"] #short name of biosample\n",
        "\n",
        "  bam = \"NA\"\n",
        "  spotScore = \"NA\"\n",
        "  numReads = \"NA\"\n",
        "  replicate = \"NA\"\n",
        "\n",
        "  for entry in data[\"files\"]: #loops through files associated with experiment\n",
        "    if entry[\"file_type\"] == \"bam\" and entry[\"status\"] == \"released\" \\\n",
        "      and entry[\"assembly\"] == genome and entry[\"output_type\"] == \"alignments\":\n",
        "\n",
        "      bam = entry[\"accession\"] #bam file\n",
        "      #Download_File(bam, \"bam\", \"/data/output\")\n",
        "\n",
        "      replicate = \",\".join([str(i) for i in entry[\"biological_replicates\"]])\n",
        "      for qc in entry[\"quality_metrics\"]:\n",
        "        if \"spot1_score\" in qc:\n",
        "          spotScore = qc[\"spot1_score\"]\n",
        "        if \"mapped\" in qc:\n",
        "          numReads = qc[\"mapped\"]\n",
        "\n",
        "      for pipeline in entry[\"analyses\"]:\n",
        "        if pipeline[\"title\"] == \"ENCODE4 v3.0.0 GRCh38\":\n",
        "          print(exp + \"\\t\" + bam +\"\\t\" + replicate + \"\\t\" + biosample + \"\\t\" + \\\n",
        "                rfa +\"\\t\"+ lab + \"\\t\" + str(spotScore) + \"\\t\" + str(numReads))\n"
      ]
    },
    {
      "cell_type": "code",
      "source": [
        "## Parameters\n",
        "genome = \"GRCh38\"\n",
        "species = \"Homo+sapiens\"\n",
        "\n",
        "## Build query\n",
        "urlMain = \"https://www.encodeproject.org/search/?type=Experiment&status=released\" + \\\n",
        "    \"&perturbed=false&assay_title=DNase-seq\" + \\\n",
        "    \"&replicates.library.biosample.donor.organism.scientific_name=\" + species + \\\n",
        "    \"&format=json&limit=50\" #update limit=all for all datasets\n",
        "\n",
        "response = urllib.request.urlopen(urlMain)\n",
        "data = json.loads(response.read())\n",
        "\n",
        "print(\"experiment_accession\" + \"\\t\" + \"bam_accession\" + \"\\t\" + \"replicate\" \"\\t\" + \"biosample\" + \\\n",
        "        \"\\t\" + \"rfa\" +\"\\t\"+ \"lab\" + \"\\t\" + \"spotScore\" + \"\\t\" + \"number_reads\")\n",
        "\n",
        "for entry in data[\"@graph\"]: #loops through experiments\n",
        "  Extract_Experiment_Metatdata(entry[\"accession\"], genome)"
      ],
      "metadata": {
        "colab": {
          "base_uri": "https://localhost:8080/"
        },
        "id": "gr_HWYHDKDBH",
        "outputId": "67933d5b-75a6-466e-f10c-7f0d05b674b0"
      },
      "execution_count": 20,
      "outputs": [
        {
          "output_type": "stream",
          "name": "stdout",
          "text": [
            "experiment_accession\tbam_accession\treplicate\tbiosample\trfa\tlab\tspotScore\tnumber_reads\n",
            "ENCSR011VHK\tENCFF528VKG\t1\tnaive B cell\tENCODE4\tJohn Stamatoyannopoulos, UW\t0.3732\t107926552\n",
            "ENCSR794KUS\tENCFF900TQP\t1\tnaive thymus-derived CD4-positive, alpha-beta T cell\tENCODE4\tJohn Stamatoyannopoulos, UW\t0.4239\t123549402\n",
            "ENCSR017SBI\tENCFF052ZPU\t1\tnaive B cell\tENCODE4\tJohn Stamatoyannopoulos, UW\t0.3192\t97767326\n",
            "ENCSR938OKL\tENCFF114KWN\t1\tnaive thymus-derived CD8-positive, alpha-beta T cell\tENCODE4\tJohn Stamatoyannopoulos, UW\t0.6039\t134132458\n",
            "ENCSR614NSH\tENCFF189WRG\t1\tnaive thymus-derived CD4-positive, alpha-beta T cell\tENCODE4\tJohn Stamatoyannopoulos, UW\t0.454\t104768802\n",
            "ENCSR326TID\tENCFF677UZD\t1\tnaive B cell\tENCODE4\tJohn Stamatoyannopoulos, UW\t0.5379\t100133198\n",
            "ENCSR012RCX\tENCFF223ULN\t1\timmature natural killer cell\tENCODE4\tJohn Stamatoyannopoulos, UW\t0.5094\t124351190\n",
            "ENCSR400YJR\tENCFF054KSC\t1\tnaive thymus-derived CD8-positive, alpha-beta T cell\tENCODE4\tJohn Stamatoyannopoulos, UW\t0.4689\t210376762\n",
            "ENCSR302MYX\tENCFF797SND\t1\tnaive thymus-derived CD4-positive, alpha-beta T cell\tENCODE4\tJohn Stamatoyannopoulos, UW\t0.6534\t153239342\n",
            "ENCSR526TFD\tENCFF827CMG\t1\tCD4-positive, alpha-beta memory T cell\tENCODE4\tJohn Stamatoyannopoulos, UW\t0.5645\t101365528\n",
            "ENCSR654LST\tENCFF799DXW\t1\timmature natural killer cell\tENCODE4\tJohn Stamatoyannopoulos, UW\t0.6969\t192359018\n",
            "ENCSR068KDQ\tENCFF397TGY\t1\tnaive thymus-derived CD8-positive, alpha-beta T cell\tENCODE4\tJohn Stamatoyannopoulos, UW\t0.539\t177337000\n",
            "ENCSR181OGW\tENCFF653TPH\t1\tnaive thymus-derived CD4-positive, alpha-beta T cell\tENCODE4\tJohn Stamatoyannopoulos, UW\t0.5964\t148323476\n",
            "ENCSR977UMU\tENCFF686VLF\t1\tCD4-positive, alpha-beta memory T cell\tENCODE4\tJohn Stamatoyannopoulos, UW\t0.6685\t140483772\n",
            "ENCSR295UXT\tENCFF765ILT\t1\tCD8-positive, alpha-beta memory T cell\tENCODE4\tJohn Stamatoyannopoulos, UW\t0.5234\t138598112\n",
            "ENCSR304CXS\tENCFF441XFT\t1\tnaive thymus-derived CD4-positive, alpha-beta T cell\tENCODE4\tJohn Stamatoyannopoulos, UW\t0.4621\t141024648\n",
            "ENCSR862ZDV\tENCFF740KCH\t1\tCD4-positive, alpha-beta memory T cell\tENCODE4\tJohn Stamatoyannopoulos, UW\t0.6044\t151252458\n",
            "ENCSR696ZDW\tENCFF404EOG\t1\timmature natural killer cell\tENCODE4\tJohn Stamatoyannopoulos, UW\t0.625\t141657958\n",
            "ENCSR534RXN\tENCFF363YTA\t1\tCD4-positive, CD25-positive, alpha-beta regulatory T cell\tENCODE4\tJohn Stamatoyannopoulos, UW\t0.2584\t187557060\n",
            "ENCSR796PIM\tENCFF131MPK\t1\tnaive B cell\tENCODE4\tJohn Stamatoyannopoulos, UW\t0.3283\t138902542\n",
            "ENCSR875IVR\tENCFF995UVE\t1\tnaive thymus-derived CD4-positive, alpha-beta T cell\tENCODE4\tJohn Stamatoyannopoulos, UW\t0.4259\t116670220\n",
            "ENCSR437PXY\tENCFF714KUG\t1\tCD4-positive, alpha-beta memory T cell\tENCODE4\tJohn Stamatoyannopoulos, UW\t0.5958\t112632836\n",
            "ENCSR184TUE\tENCFF967UEJ\t1\tnaive B cell\tENCODE4\tJohn Stamatoyannopoulos, UW\t0.3052\t123291334\n",
            "ENCSR560MXA\tENCFF633EYK\t1\tT-cell\tENCODE4\tJohn Stamatoyannopoulos, UW\t0.2985\t99455670\n",
            "ENCSR736VVP\tENCFF784VSB\t1\tmemory B cell\tENCODE4\tJohn Stamatoyannopoulos, UW\t0.3365\t171303084\n",
            "ENCSR917BSW\tENCFF438VZH\t1\tstimulated activated effector memory CD8-positive, alpha-beta T cell\tENCODE4\tJohn Stamatoyannopoulos, UW\t0.3109\t278435866\n",
            "ENCSR229BGG\tENCFF731UJO\t1\tmemory B cell\tENCODE4\tJohn Stamatoyannopoulos, UW\t0.2843\t115398004\n",
            "ENCSR208YDK\tENCFF960DOV\t1\tstimulated activated naive CD8-positive, alpha-beta T cell\tENCODE4\tJohn Stamatoyannopoulos, UW\t0.4251\t118903658\n",
            "ENCSR794TLA\tENCFF356WSQ\t1\tnatural killer cell\tENCODE4\tJohn Stamatoyannopoulos, UW\t0.3554\t171333034\n",
            "ENCSR515PDV\tENCFF030PNE\t1\tactivated naive CD4-positive, alpha-beta T cell\tENCODE4\tJohn Stamatoyannopoulos, UW\t0.3877\t160810622\n",
            "ENCSR940CXU\tENCFF953MMX\t1\tendodermal cell\tENCODE4\tJohn Stamatoyannopoulos, UW\t0.3462\t339043998\n",
            "ENCSR109DTU\tENCFF855BXL\t1\tactivated B cell\tENCODE4\tJohn Stamatoyannopoulos, UW\t0.4685\t109146626\n",
            "ENCSR636DIR\tENCFF528SLH\t1\tactivated T-helper 1 cell\tENCODE4\tJohn Stamatoyannopoulos, UW\t0.387\t104274568\n",
            "ENCSR365CUB\tENCFF474YVS\t1\tactivated CD4-positive, alpha-beta T cell\tENCODE4\tJohn Stamatoyannopoulos, UW\t0.426\t773403968\n",
            "ENCSR223XND\tENCFF966RTN\t1\tT-helper 2 cell\tENCODE4\tJohn Stamatoyannopoulos, UW\t0.3883\t163652026\n",
            "ENCSR975LGK\tENCFF684DLJ\t1\tnatural killer cell\tENCODE4\tJohn Stamatoyannopoulos, UW\t0.4407\t126295628\n",
            "ENCSR409ZBD\tENCFF286KKJ\t1\tnatural killer cell\tENCODE4\tJohn Stamatoyannopoulos, UW\t0.2383\t192207984\n",
            "ENCSR125OEJ\tENCFF865DML\t1\tnaive thymus-derived CD4-positive, alpha-beta T cell\tENCODE4\tJohn Stamatoyannopoulos, UW\t0.4221\t83410790\n",
            "ENCSR969QKG\tENCFF682STC\t1\tnaive thymus-derived CD4-positive, alpha-beta T cell\tENCODE4\tJohn Stamatoyannopoulos, UW\t0.3466\t118760206\n",
            "ENCSR330JXM\tENCFF424NSY\t1\tbrain\tENCODE4\tJohn Stamatoyannopoulos, UW\t0.2174\t160356380\n",
            "ENCSR049SVH\tENCFF786YZF\t1\tbrain\tENCODE4\tJohn Stamatoyannopoulos, UW\t0.2421\t191174934\n",
            "ENCSR817ALC\tENCFF570RZQ\t1\tmammary epithelial cell\tENCODE4\tJohn Stamatoyannopoulos, UW\t0.3127\t96838010\n",
            "ENCSR362ZFC\tENCFF843AJO\t1\ttype B pancreatic cell\tENCODE4\tJohn Stamatoyannopoulos, UW\t0.2285\t218077670\n",
            "ENCSR818HHN\tENCFF039RUP\t1\tosteocyte\tENCODE4\tJohn Stamatoyannopoulos, UW\t0.2073\t292801580\n",
            "ENCSR889ONK\tENCFF867MZF\t1\tnaive thymus-derived CD8-positive, alpha-beta T cell\tENCODE4\tJohn Stamatoyannopoulos, UW\t0.4236\t92048454\n",
            "ENCSR572HUG\tENCFF809IED\t1\tactivated naive CD8-positive, alpha-beta T cell\tENCODE4\tJohn Stamatoyannopoulos, UW\t0.5324\t128148684\n",
            "ENCSR114XWV\tENCFF919QTJ\t1\tstimulated activated naive CD8-positive, alpha-beta T cell\tENCODE4\tJohn Stamatoyannopoulos, UW\t0.5614\t156601818\n",
            "ENCSR154NYM\tENCFF846LJB\t1\tstimulated activated naive CD8-positive, alpha-beta T cell\tENCODE4\tJohn Stamatoyannopoulos, UW\t0.573\t213627808\n",
            "ENCSR232FAS\tENCFF852JWU\t1\teffector memory CD8-positive, alpha-beta T cell\tENCODE4\tJohn Stamatoyannopoulos, UW\t0.4226\t91061534\n",
            "ENCSR560UTV\tENCFF275CHT\t1\tcentral memory CD8-positive, alpha-beta T cell\tENCODE4\tJohn Stamatoyannopoulos, UW\t0.2949\t111692650\n"
          ]
        }
      ]
    }
  ]
}
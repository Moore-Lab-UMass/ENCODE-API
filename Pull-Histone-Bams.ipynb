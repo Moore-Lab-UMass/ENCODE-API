{
  "nbformat": 4,
  "nbformat_minor": 0,
  "metadata": {
    "colab": {
      "name": "Pull-Histone-Bams.ipynb",
      "provenance": [],
      "authorship_tag": "ABX9TyNGiNnne/PC4LraovquXzEB",
      "include_colab_link": true
    },
    "kernelspec": {
      "name": "python3",
      "display_name": "Python 3"
    },
    "language_info": {
      "name": "python"
    }
  },
  "cells": [
    {
      "cell_type": "markdown",
      "metadata": {
        "id": "view-in-github",
        "colab_type": "text"
      },
      "source": [
        "<a href=\"https://colab.research.google.com/github/Moore-Lab-UMass/ENCODE-API/blob/main/Pull-Histone-Bams.ipynb\" target=\"_parent\"><img src=\"https://colab.research.google.com/assets/colab-badge.svg\" alt=\"Open In Colab\"/></a>"
      ]
    },
    {
      "cell_type": "code",
      "source": [
        "#Jill E. Moore\n",
        "#Moore Lab - UMass Chan Medical School\n",
        "#May 2022\n",
        "\n",
        "import os\n",
        "import json\n",
        "import urllib\n",
        "from urllib import request, parse, error\n",
        "import requests"
      ],
      "metadata": {
        "id": "bJChV8-FJu0k"
      },
      "execution_count": 1,
      "outputs": []
    },
    {
      "cell_type": "code",
      "source": [
        "def Download_File(name, extension, outputDir): #downloads file to local machine\n",
        "    if not os.path.exists(outputDir+\"/\"+name+\".\"+extension):\n",
        "        url=\"https://www.encodeproject.org/files/\"+name+\"/@@download/\"+name+\".\"+extension\n",
        "        r = requests.get(url)\n",
        "        outputFile=open(outputDir+\"/\"+name+\".\"+extension, \"wb\")\n",
        "        outputFile.write(r.content)\n",
        "        outputFile.close()"
      ],
      "metadata": {
        "id": "SQP5u0jwJ9jh"
      },
      "execution_count": 2,
      "outputs": []
    },
    {
      "cell_type": "code",
      "execution_count": 3,
      "metadata": {
        "id": "BFUsSTWg9Smx"
      },
      "outputs": [],
      "source": [
        "def Extract_Experiment_Metatdata(exp, genome): #extracts experiment metadata\n",
        "  urlExp = \"https://www.encodeproject.org/experiments/\"+exp+\"/?format=json\"\n",
        "  response = urllib.request.urlopen(urlExp)\n",
        "  data = json.loads(response.read())\n",
        "\n",
        "  rfa = data[\"award\"][\"rfa\"] #project/phase of encode\n",
        "  lab = data[\"lab\"][\"title\"] #lab that submitted the experiment\n",
        "  biosample = data[\"biosample_ontology\"][\"term_name\"] #short name of biosample\n",
        "  tf = data[\"target\"][\"label\"] #target of the assay, i.e. TF\n",
        "\n",
        "  bam = \"NA\"\n",
        "  numReads = \"NA\"\n",
        "  replicate = \"NA\"\n",
        "\n",
        "  for entry in data[\"files\"]: #loops through files associated with experiment\n",
        "    if entry[\"file_type\"] == \"bam\" and entry[\"status\"] == \"released\" \\\n",
        "      and entry[\"assembly\"] == genome and entry[\"output_type\"] == \"alignments\":\n",
        "\n",
        "      bam = entry[\"accession\"] #bam file\n",
        "      #Download_File(bam, \"bam\", \"/data/output\")\n",
        "      replicate = \",\".join([str(i) for i in entry[\"biological_replicates\"]])\n",
        "\n",
        "      for qc in entry[\"quality_metrics\"]:\n",
        "        if \"mapped_reads\" in qc:\n",
        "          numReads = qc[\"mapped_reads\"]\n",
        "\n",
        "      for pipeline in entry[\"analyses\"]:\n",
        "        if pipeline[\"status\"] == \"released\":\n",
        "          print(exp + \"\\t\" + bam +\"\\t\" + replicate + \"\\t\" + biosample + \"\\t\"+ \\\n",
        "                tf +\"\\t\" + rfa +\"\\t\"+ lab + \"\\t\" + str(numReads))\n"
      ]
    },
    {
      "cell_type": "code",
      "source": [
        "## Parameters\n",
        "genome = \"GRCh38\"\n",
        "species = \"Homo+sapiens\"\n",
        "\n",
        "## Build query\n",
        "urlMain = \"https://www.encodeproject.org/search/?type=Experiment&status=released\" + \\\n",
        "    \"&perturbed=false&perturbed=true&assay_title=Histone+ChIP-seq\" + \\\n",
        "    \"&assay_title=Mint-ChIP-seq\" + \\\n",
        "    \"&replicates.library.biosample.donor.organism.scientific_name=\" + species + \\\n",
        "    \"&format=json&limit=50\" #update limit=all for all datasets\n",
        "\n",
        "response = urllib.request.urlopen(urlMain)\n",
        "data = json.loads(response.read())\n",
        "\n",
        "print(\"experiment_accession\" + \"\\t\" + \"bam_accession\" + \"\\t\" + \"replicate\" + \\\n",
        "      \"\\t\" + \"biosample\" + \"\\t\" + \"tf\" + \"\\t\" + \"rfa\" +\"\\t\"+ \"lab\" + \"\\t\" + \\\n",
        "      \"number_reads\")\n",
        "\n",
        "for entry in data[\"@graph\"]: #loops through experiments\n",
        "  Extract_Experiment_Metatdata(entry[\"accession\"], genome)"
      ],
      "metadata": {
        "colab": {
          "base_uri": "https://localhost:8080/"
        },
        "id": "gr_HWYHDKDBH",
        "outputId": "9acd4b82-7da6-4322-8e1f-56307c9ffe26"
      },
      "execution_count": 4,
      "outputs": [
        {
          "output_type": "stream",
          "name": "stdout",
          "text": [
            "experiment_accession\tbam_accession\treplicate\tbiosample\ttf\trfa\tlab\tnumber_reads\n",
            "ENCSR976GAB\tENCFF342XID\t1\tCalu3\tH3K27ac\tENCODE4\tBradley Bernstein, Broad\t50938672\n",
            "ENCSR995MHN\tENCFF621ZWN\t1\tCaco-2\tH3K4me3\tENCODE4\tBradley Bernstein, Broad\t42961494\n",
            "ENCSR571QQB\tENCFF541JYL\t1\tCaco-2\tH3K27ac\tENCODE4\tBradley Bernstein, Broad\t35006584\n",
            "ENCSR291QUA\tENCFF249DZS\t1\tMCF 10A\tH3K4me3\tENCODE4\tBradley Bernstein, Broad\t30850856\n",
            "ENCSR685JSL\tENCFF074XGA\t1\tMCF 10A\tH3K27ac\tENCODE4\tBradley Bernstein, Broad\t31046422\n",
            "ENCSR930EMO\tENCFF611ZHJ\t1\tHCT116\tH3K27ac\tENCODE4\tBradley Bernstein, Broad\t66419384\n",
            "ENCSR993EBE\tENCFF961QXY\t1\tHCT116\tH3K4me1\tENCODE4\tBradley Bernstein, Broad\t143018614\n",
            "ENCSR280DQH\tENCFF597ZTM\t1\tHCT116\tH3K4me3\tENCODE4\tBradley Bernstein, Broad\t47101682\n",
            "ENCSR253KLE\tENCFF140ENA\t1\tHCT116\tH3K36me3\tENCODE4\tBradley Bernstein, Broad\t118370392\n",
            "ENCSR728KQX\tENCFF535QKX\t1\tHCT116\tH3K27ac\tENCODE4\tBradley Bernstein, Broad\t70872432\n",
            "ENCSR523IAZ\tENCFF264RRX\t1\tHCT116\tH3K4me3\tENCODE4\tBradley Bernstein, Broad\t58647562\n",
            "ENCSR766IIG\tENCFF506FJR\t1\tHCT116\tH3K4me1\tENCODE4\tBradley Bernstein, Broad\t101812264\n",
            "ENCSR626JLT\tENCFF300PZH\t1\tHCT116\tH3K4me1\tENCODE4\tBradley Bernstein, Broad\t90239894\n",
            "ENCSR879YQX\tENCFF878VGF\t1\tHCT116\tH3K27me3\tENCODE4\tBradley Bernstein, Broad\t119896072\n",
            "ENCSR825HFI\tENCFF647XIK\t1\tHCT116\tH3K36me3\tENCODE4\tBradley Bernstein, Broad\t122793802\n",
            "ENCSR191ULN\tENCFF193RMQ\t1\tHCT116\tH3K4me3\tENCODE4\tBradley Bernstein, Broad\t51609356\n",
            "ENCSR324ZNP\tENCFF623EKE\t1\tHCT116\tH3K27ac\tENCODE4\tBradley Bernstein, Broad\t58677054\n",
            "ENCSR263BZK\tENCFF028KWL\t1\tHCT116\tH3K27me3\tENCODE4\tBradley Bernstein, Broad\t77492906\n",
            "ENCSR329LNO\tENCFF786OAX\t1\tHCT116\tH3K9me3\tENCODE4\tBradley Bernstein, Broad\t87773480\n",
            "ENCSR065OMZ\tENCFF017GIN\t1\tHCT116\tH3K36me3\tENCODE4\tBradley Bernstein, Broad\t72325354\n",
            "ENCSR338ZOL\tENCFF855ONQ\t1\tHCT116\tH3K4me1\tENCODE4\tBradley Bernstein, Broad\t80371496\n",
            "ENCSR626SDX\tENCFF939LZJ\t1\tHCT116\tH3K4me3\tENCODE4\tBradley Bernstein, Broad\t51041446\n",
            "ENCSR957EOR\tENCFF906AHM\t1\tHCT116\tH3K27ac\tENCODE4\tBradley Bernstein, Broad\t46843302\n",
            "ENCSR157WAJ\tENCFF616EKC\t1\tstimulated activated memory B cell\tH3K27ac\tENCODE4\tBradley Bernstein, Broad\t61208588\n",
            "ENCSR563XBT\tENCFF574OPU\t1\tstimulated activated memory B cell\tH3K4me3\tENCODE4\tBradley Bernstein, Broad\t62318056\n",
            "ENCSR559MYU\tENCFF651YIJ\t1\tstimulated activated memory B cell\tH3K27me3\tENCODE4\tBradley Bernstein, Broad\t112104354\n",
            "ENCSR439SOW\tENCFF467OOH\t1\tstimulated activated memory B cell\tH3K9me3\tENCODE4\tBradley Bernstein, Broad\t114435282\n",
            "ENCSR053RFF\tENCFF589BHL\t1\tstimulated activated memory B cell\tH3K36me3\tENCODE4\tBradley Bernstein, Broad\t117088112\n",
            "ENCSR406YIZ\tENCFF754IEG\t1\tstimulated activated memory B cell\tH3K4me1\tENCODE4\tBradley Bernstein, Broad\t146800130\n",
            "ENCSR560ONA\tENCFF531XWE\t1\tT-helper 17 cell\tH3K36me3\tENCODE4\tBradley Bernstein, Broad\t87495050\n",
            "ENCSR079EXG\tENCFF707HAF\t1\tT-helper 17 cell\tH3K4me3\tENCODE4\tBradley Bernstein, Broad\t44432130\n",
            "ENCSR103GBF\tENCFF233WHR\t1\tT-helper 17 cell\tH3K4me1\tENCODE4\tBradley Bernstein, Broad\t93412558\n",
            "ENCSR237OOE\tENCFF202UFS\t1\tnatural killer cell\tH3K9me3\tENCODE4\tBradley Bernstein, Broad\t167113266\n",
            "ENCSR710SZV\tENCFF873QGZ\t1\tnaive thymus-derived CD4-positive, alpha-beta T cell\tH3K4me3\tENCODE4\tBradley Bernstein, Broad\t64488740\n",
            "ENCSR787ZCK\tENCFF301AGA\t1\tnaive thymus-derived CD4-positive, alpha-beta T cell\tH3K27ac\tENCODE4\tBradley Bernstein, Broad\t39712616\n",
            "ENCSR498DCY\tENCFF508KCK\t1\tT-cell\tH3K27ac\tENCODE4\tBradley Bernstein, Broad\t16800140\n",
            "ENCSR642LQG\tENCFF468WXU\t1\tnaive thymus-derived CD4-positive, alpha-beta T cell\tH3K9me3\tENCODE4\tBradley Bernstein, Broad\t76690690\n",
            "ENCSR507SXH\tENCFF454VBU\t1\tnaive thymus-derived CD4-positive, alpha-beta T cell\tH3K4me1\tENCODE4\tBradley Bernstein, Broad\t94991094\n",
            "ENCSR414RIE\tENCFF876KMN\t1\tnaive thymus-derived CD4-positive, alpha-beta T cell\tH3K36me3\tENCODE4\tBradley Bernstein, Broad\t79418408\n",
            "ENCSR082DLA\tENCFF864NOZ\t1\tnaive thymus-derived CD4-positive, alpha-beta T cell\tH3K27ac\tENCODE4\tBradley Bernstein, Broad\t33511530\n",
            "ENCSR965WYA\tENCFF502VFY\t1\tnaive thymus-derived CD4-positive, alpha-beta T cell\tH3K27me3\tENCODE4\tBradley Bernstein, Broad\t104838160\n",
            "ENCSR530FIT\tENCFF553WPM\t1\tactivated naive CD4-positive, alpha-beta T cell\tH3K36me3\tENCODE4\tBradley Bernstein, Broad\t90829736\n",
            "ENCSR549RQM\tENCFF358CIA\t1\tactivated naive CD4-positive, alpha-beta T cell\tH3K27ac\tENCODE4\tBradley Bernstein, Broad\t54442836\n",
            "ENCSR260EVS\tENCFF264WOX\t1\tactivated naive CD4-positive, alpha-beta T cell\tH3K9me3\tENCODE4\tBradley Bernstein, Broad\t152862320\n",
            "ENCSR819NCZ\tENCFF875YFU\t1\tT-helper 17 cell\tH3K27ac\tENCODE4\tBradley Bernstein, Broad\t50087670\n",
            "ENCSR982WMJ\tENCFF207YHH\t1\tT-helper 17 cell\tH3K27me3\tENCODE4\tBradley Bernstein, Broad\t124184130\n",
            "ENCSR432JJQ\tENCFF716ICC\t1\tactivated naive CD4-positive, alpha-beta T cell\tH3K36me3\tENCODE4\tBradley Bernstein, Broad\t123166636\n",
            "ENCSR103OSN\tENCFF061RZQ\t1\tactivated naive CD4-positive, alpha-beta T cell\tH3K9me3\tENCODE4\tBradley Bernstein, Broad\t120742398\n",
            "ENCSR855OKE\tENCFF122FGV\t1\tactivated naive CD4-positive, alpha-beta T cell\tH3K27ac\tENCODE4\tBradley Bernstein, Broad\t91728534\n",
            "ENCSR950ICX\tENCFF841FHI\t1\tnaive thymus-derived CD4-positive, alpha-beta T cell\tH3K4me3\tENCODE4\tBradley Bernstein, Broad\t35227694\n"
          ]
        }
      ]
    }
  ]
}
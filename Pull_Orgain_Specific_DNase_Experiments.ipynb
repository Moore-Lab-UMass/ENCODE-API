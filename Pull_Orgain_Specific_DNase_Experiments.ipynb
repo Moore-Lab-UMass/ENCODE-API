{
  "nbformat": 4,
  "nbformat_minor": 0,
  "metadata": {
    "colab": {
      "provenance": [],
      "authorship_tag": "ABX9TyPgJqcs1bF25tQ2iZLgH7OI",
      "include_colab_link": true
    },
    "kernelspec": {
      "name": "python3",
      "display_name": "Python 3"
    },
    "language_info": {
      "name": "python"
    }
  },
  "cells": [
    {
      "cell_type": "markdown",
      "metadata": {
        "id": "view-in-github",
        "colab_type": "text"
      },
      "source": [
        "<a href=\"https://colab.research.google.com/github/Moore-Lab-UMass/ENCODE-API/blob/main/Pull_Orgain_Specific_DNase_Experiments.ipynb\" target=\"_parent\"><img src=\"https://colab.research.google.com/assets/colab-badge.svg\" alt=\"Open In Colab\"/></a>"
      ]
    },
    {
      "cell_type": "code",
      "source": [
        "#Jill E. Moore\n",
        "#Moore Lab - UMass Chan Medical School\n",
        "#May 2022\n",
        "\n",
        "import os\n",
        "import json\n",
        "import urllib\n",
        "from urllib import request, parse, error\n",
        "import requests"
      ],
      "metadata": {
        "id": "bJChV8-FJu0k"
      },
      "execution_count": 1,
      "outputs": []
    },
    {
      "cell_type": "code",
      "source": [
        "def Download_File(name, extension, outputDir): #downloads file to local machine\n",
        "    if not os.path.exists(outputDir+\"/\"+name+\".\"+extension):\n",
        "        url=\"https://www.encodeproject.org/files/\"+name+\"/@@download/\"+name+\".\"+extension\n",
        "        r = requests.get(url)\n",
        "        outputFile=open(outputDir+\"/\"+name+\".\"+extension, \"wb\")\n",
        "        outputFile.write(r.content)\n",
        "        outputFile.close()"
      ],
      "metadata": {
        "id": "SQP5u0jwJ9jh"
      },
      "execution_count": null,
      "outputs": []
    },
    {
      "cell_type": "code",
      "execution_count": 17,
      "metadata": {
        "id": "BFUsSTWg9Smx"
      },
      "outputs": [],
      "source": [
        "def Extract_Experiment_Metatdata(exp, genome): #extracts experiment metadata\n",
        "  urlExp = \"https://www.encodeproject.org/experiments/\"+exp+\"/?format=json\"\n",
        "  response = urllib.request.urlopen(urlExp)\n",
        "  data = json.loads(response.read())\n",
        "\n",
        "  rfa = data[\"award\"][\"rfa\"] #project/phase of encode\n",
        "  lab = data[\"lab\"][\"title\"] #lab that submitted the experiment\n",
        "  biosample = data[\"biosample_ontology\"][\"term_name\"] #short name of biosample\n",
        "\n",
        "  bigWig = \"NA\"\n",
        "  numReads = \"NA\"\n",
        "  replicate = \"NA\"\n",
        "\n",
        "  for entry in data[\"files\"]: #loops through files associated with experiment\n",
        "    if entry[\"file_type\"] == \"bigWig\" and entry[\"status\"] == \"released\" \\\n",
        "      and entry[\"assembly\"] == genome and entry[\"output_type\"] == \"read-depth normalized signal\":\n",
        "\n",
        "      bigWig = entry[\"accession\"] #bam file\n",
        "      #Download_File(bam, \"bam\", \"/data/output\")\n",
        "\n",
        "      replicate = \",\".join([str(i) for i in entry[\"biological_replicates\"]])\n",
        "\n",
        "      if \"preferred_default\" in entry and entry[\"preferred_default\"] == True:\n",
        "        print(exp + \"\\t\" + bigWig +\"\\t\" + replicate + \"\\t\" + biosample + \"\\t\" + \\\n",
        "                rfa +\"\\t\"+ lab )\n"
      ]
    },
    {
      "cell_type": "code",
      "source": [
        "## Parameters\n",
        "genome = \"GRCh38\"\n",
        "species = \"Homo+sapiens\"\n",
        "\n",
        "## Build query\n",
        "urlMain = \"https://www.encodeproject.org/search/?type=Experiment&status=released\" + \\\n",
        "    \"&perturbed=false&perturbed=true&assay_title=DNase-seq\" + \\\n",
        "    \"&replicates.library.biosample.donor.organism.scientific_name=\" + species + \\\n",
        "    \"&format=json&biosample_ontology.organ_slims=brain&limit=10\" #update limit=all for all datasets\n",
        "\n",
        "response = urllib.request.urlopen(urlMain)\n",
        "data = json.loads(response.read())\n",
        "\n",
        "print(\"experiment_accession\" + \"\\t\" + \"bigwig_accession\" + \"\\t\" + \"replicate\" \"\\t\" + \"biosample\" + \\\n",
        "        \"\\t\" + \"rfa\" +\"\\t\"+ \"lab\")\n",
        "\n",
        "for entry in data[\"@graph\"]: #loops through experiments\n",
        "  Extract_Experiment_Metatdata(entry[\"accession\"], genome)"
      ],
      "metadata": {
        "colab": {
          "base_uri": "https://localhost:8080/"
        },
        "id": "gr_HWYHDKDBH",
        "outputId": "c3157d8f-2c0a-42f5-efdb-fecf16dad2ff"
      },
      "execution_count": 18,
      "outputs": [
        {
          "output_type": "stream",
          "name": "stdout",
          "text": [
            "experiment_accession\tbigwig_accession\treplicate\tbiosample\trfa\tlab\n",
            "ENCSR330JXM\tENCFF157RLF\t1\tbrain\tENCODE4\tJohn Stamatoyannopoulos, UW\n",
            "ENCSR049SVH\tENCFF110ZAI\t1\tbrain\tENCODE4\tJohn Stamatoyannopoulos, UW\n",
            "ENCSR059ETS\tENCFF900YTP\t1\tposterior cingulate gyrus\tENCODE4\tJohn Stamatoyannopoulos, UW\n",
            "ENCSR690CVL\tENCFF108TMD\t1\tposterior cingulate gyrus\tENCODE4\tJohn Stamatoyannopoulos, UW\n",
            "ENCSR511PFY\tENCFF687KZW\t1\thead of caudate nucleus\tENCODE4\tJohn Stamatoyannopoulos, UW\n",
            "ENCSR709PZI\tENCFF460RKR\t1\tposterior cingulate gyrus\tENCODE4\tJohn Stamatoyannopoulos, UW\n",
            "ENCSR822GDF\tENCFF670TZZ\t1\tposterior cingulate gyrus\tENCODE4\tJohn Stamatoyannopoulos, UW\n",
            "ENCSR955RQG\tENCFF325KOH\t1\tposterior cingulate gyrus\tENCODE4\tJohn Stamatoyannopoulos, UW\n",
            "ENCSR042DVU\tENCFF978OBK\t1\thead of caudate nucleus\tENCODE4\tJohn Stamatoyannopoulos, UW\n",
            "ENCSR433NEX\tENCFF126WHA\t1\tposterior cingulate gyrus\tENCODE4\tJohn Stamatoyannopoulos, UW\n"
          ]
        }
      ]
    }
  ]
}
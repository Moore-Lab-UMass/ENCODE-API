{
  "nbformat": 4,
  "nbformat_minor": 0,
  "metadata": {
    "colab": {
      "name": "Retrieve-K562-TF-Peaks.ipynb",
      "provenance": [],
      "authorship_tag": "ABX9TyM8DjB4g9rNMoUkCfHcTqG2",
      "include_colab_link": true
    },
    "kernelspec": {
      "name": "python3",
      "display_name": "Python 3"
    },
    "language_info": {
      "name": "python"
    }
  },
  "cells": [
    {
      "cell_type": "markdown",
      "metadata": {
        "id": "view-in-github",
        "colab_type": "text"
      },
      "source": [
        "<a href=\"https://colab.research.google.com/github/Moore-Lab-UMass/ENCODE-API/blob/main/Retrieve_K562_TF_Peaks.ipynb\" target=\"_parent\"><img src=\"https://colab.research.google.com/assets/colab-badge.svg\" alt=\"Open In Colab\"/></a>"
      ]
    },
    {
      "cell_type": "code",
      "execution_count": null,
      "metadata": {
        "colab": {
          "base_uri": "https://localhost:8080/"
        },
        "id": "rcf9ZHZuRZYV",
        "outputId": "82fbef7d-6306-4e1e-e49a-9bb95a4f3074"
      },
      "outputs": [
        {
          "output_type": "stream",
          "name": "stdout",
          "text": [
            "experiment_accession\tpeak_accession\ttf\tbiosample\trfa\tlab\tfrip\tnumber_peaks\n",
            "ENCSR208VNN\tENCFF518SJY\tIFI16\tK562\tENCODE4\tMichael Snyder, Stanford\t0.0018\t1568\n",
            "ENCSR579XWM\tENCFF023JGT\tHSF4\tK562\tENCODE4\tMichael Snyder, Stanford\t0.0038\t2996\n",
            "ENCSR659CCI\tENCFF516ZWP\tFOXK1\tK562\tENCODE4\tRichard Myers, HAIB\t0.0107\t7647\n",
            "ENCSR228ELU\tENCFF214SNH\tTEAD1\tK562\tENCODE4\tRichard Myers, HAIB\t0.0362\t18156\n",
            "ENCSR939CDD\tENCFF086FAZ\tARID4B\tK562\tENCODE4\tRichard Myers, HAIB\t0.0445\t18831\n",
            "ENCSR530WIV\tENCFF491EEI\tFOXP1\tK562\tENCODE4\tRichard Myers, HAIB\t0.0237\t12557\n",
            "ENCSR946WBN\tENCFF865UPM\tJUN\tK562\tENCODE4\tRichard Myers, HAIB\t0.0108\t6966\n",
            "ENCSR788DXU\tENCFF197SXI\tFOXA3\tK562\tENCODE4\tRichard Myers, HAIB\t0.0208\t12382\n",
            "ENCSR817FMN\tENCFF303CVC\tTEAD4\tK562\tENCODE4\tRichard Myers, HAIB\t0.0052\t3856\n",
            "ENCSR849LXI\tENCFF478MAJ\tMTF1\tK562\tENCODE4\tMichael Snyder, Stanford\t0.0018\t1840\n"
          ]
        }
      ],
      "source": [
        "#Jill E. Moore\n",
        "#Moore Lab - UMass Chan Medical School\n",
        "#May 2022\n",
        "\n",
        "import os, json, urllib.request, urllib.parse, urllib.error, requests\n",
        "\n",
        "def Download_File(name, extension, outputDir): #downloads file to local machine\n",
        "    if not os.path.exists(outputDir+\"/\"+name+\".\"+extension):\n",
        "        url=\"https://www.encodeproject.org/files/\"+name+\"/@@download/\"+name+\".\"+extension\n",
        "        r = requests.get(url)\n",
        "        outputFile=open(outputDir+\"/\"+name+\".\"+extension, \"wb\")\n",
        "        outputFile.write(r.content)\n",
        "        outputFile.close()\n",
        "\n",
        "def Retrieve_QC_Metrics(peaks): #retrieves qc metrics about peak file\n",
        "  urlPeak = \"https://www.encodeproject.org/files/\"+peaks+\"/?format=json\"\n",
        "  response = urllib.request.urlopen(urlPeak)\n",
        "  data = json.loads(response.read())\n",
        "\n",
        "  frip = \"NA\"\n",
        "  numPeaks = \"NA\"\n",
        "\n",
        "  for qc in data[\"quality_metrics\"]:\n",
        "    if \"frip\" in qc:\n",
        "      frip = qc[\"frip\"]\n",
        "    if \"reproducible_peaks\" in qc:\n",
        "      numPeaks = qc[\"reproducible_peaks\"]\n",
        "  return frip, numPeaks\n",
        "\n",
        "def Extract_Experiment_Metatdata(exp, genome): #extracts experiment metadata\n",
        "  urlExp = \"https://www.encodeproject.org/experiments/\"+exp+\"/?format=json\"\n",
        "  response = urllib.request.urlopen(urlExp)\n",
        "  data = json.loads(response.read())\n",
        "\n",
        "  rfa = data[\"award\"][\"rfa\"] #project/phase of encode\n",
        "  tf = data[\"target\"][\"label\"] #target of the assay, i.e. TF\n",
        "  lab = data[\"lab\"][\"title\"] #lab that submitted the experiment\n",
        "  biosample = data[\"biosample_ontology\"][\"term_name\"] #short name of biosample\n",
        "\n",
        "  peaks = \"NA\"\n",
        "  frip = \"NA\"\n",
        "  numPeaks = \"NA\"\n",
        "\n",
        "  for entry in data[\"files\"]: #loops through files associated with experiment\n",
        "    if entry[\"file_type\"] == \"bed narrowPeak\" and entry[\"status\"] == \"released\" \\\n",
        "      and entry[\"assembly\"] == genome and \"preferred_default\" in entry \\\n",
        "      and entry[\"preferred_default\"] == True:\n",
        "\n",
        "      peaks = entry[\"accession\"] #peak file\n",
        "\n",
        "  if peaks != \"NA\":\n",
        "    #Download_File(peaks, \"bed.gz\", \"/data/output\")\n",
        "    frip, numPeaks = Retrieve_QC_Metrics(peaks) #extract qc metrics\n",
        "  return biosample, peaks, tf, rfa, lab, frip, numPeaks\n",
        "\n",
        "## Parameters\n",
        "genome = \"GRCh38\"\n",
        "species = \"Homo+sapiens\"\n",
        "cellType = \"K562\"\n",
        "\n",
        "## Build query\n",
        "urlMain = \"https://www.encodeproject.org/search/?type=Experiment&status=released\" + \\\n",
        "    \"&perturbed=false&assay_title=TF+ChIP-seq\" + \\\n",
        "    \"&replicates.library.biosample.donor.organism.scientific_name=\" + species + \\\n",
        "    \"&biosample_ontology.term_name=\" + cellType + \"&format=json&limit=10\" #update limit=all for all datasets\n",
        "\n",
        "response = urllib.request.urlopen(urlMain)\n",
        "data = json.loads(response.read())\n",
        "\n",
        "print(\"experiment_accession\" + \"\\t\" + \"peak_accession\" + \"\\t\" + \"tf\" + \"\\t\" + \"biosample\" + \\\n",
        "        \"\\t\" + \"rfa\" +\"\\t\"+ \"lab\" + \"\\t\" + \"frip\" + \"\\t\" + \"number_peaks\")\n",
        "\n",
        "for entry in data[\"@graph\"]: #loops through experiments\n",
        "  biosample, peaks, tf, rfa, lab, frip, numPeaks = \\\n",
        "    Extract_Experiment_Metatdata(entry[\"accession\"], genome)\n",
        "  print(entry[\"accession\"] + \"\\t\" + peaks + \"\\t\" + tf + \"\\t\" + biosample + \\\n",
        "        \"\\t\" + rfa +\"\\t\"+ lab + \"\\t\" + str(round(frip,4)) + \"\\t\" + str(numPeaks))"
      ]
    }
  ]
}
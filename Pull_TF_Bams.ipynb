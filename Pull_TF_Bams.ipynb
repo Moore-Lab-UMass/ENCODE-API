{
  "nbformat": 4,
  "nbformat_minor": 0,
  "metadata": {
    "colab": {
      "name": "Pull-TF-Bams.ipynb",
      "provenance": [],
      "authorship_tag": "ABX9TyPt3auOf9COiGWicPKzC1hs",
      "include_colab_link": true
    },
    "kernelspec": {
      "name": "python3",
      "display_name": "Python 3"
    },
    "language_info": {
      "name": "python"
    }
  },
  "cells": [
    {
      "cell_type": "markdown",
      "metadata": {
        "id": "view-in-github",
        "colab_type": "text"
      },
      "source": [
        "<a href=\"https://colab.research.google.com/github/Moore-Lab-UMass/ENCODE-API/blob/main/Pull_TF_Bams.ipynb\" target=\"_parent\"><img src=\"https://colab.research.google.com/assets/colab-badge.svg\" alt=\"Open In Colab\"/></a>"
      ]
    },
    {
      "cell_type": "code",
      "source": [
        "#Jill E. Moore\n",
        "#Moore Lab - UMass Chan Medical School\n",
        "#May 2022\n",
        "\n",
        "import os\n",
        "import json\n",
        "import urllib\n",
        "from urllib import request, parse, error\n",
        "import requests"
      ],
      "metadata": {
        "id": "bJChV8-FJu0k"
      },
      "execution_count": 1,
      "outputs": []
    },
    {
      "cell_type": "code",
      "source": [
        "def Download_File(name, extension, outputDir): #downloads file to local machine\n",
        "    if not os.path.exists(outputDir+\"/\"+name+\".\"+extension):\n",
        "        url=\"https://www.encodeproject.org/files/\"+name+\"/@@download/\"+name+\".\"+extension\n",
        "        r = requests.get(url)\n",
        "        outputFile=open(outputDir+\"/\"+name+\".\"+extension, \"wb\")\n",
        "        outputFile.write(r.content)\n",
        "        outputFile.close()"
      ],
      "metadata": {
        "id": "SQP5u0jwJ9jh"
      },
      "execution_count": 2,
      "outputs": []
    },
    {
      "cell_type": "code",
      "execution_count": 19,
      "metadata": {
        "id": "BFUsSTWg9Smx"
      },
      "outputs": [],
      "source": [
        "def Extract_Experiment_Metatdata(exp, genome): #extracts experiment metadata\n",
        "  urlExp = \"https://www.encodeproject.org/experiments/\"+exp+\"/?format=json\"\n",
        "  response = urllib.request.urlopen(urlExp)\n",
        "  data = json.loads(response.read())\n",
        "\n",
        "  rfa = data[\"award\"][\"rfa\"] #project/phase of encode\n",
        "  lab = data[\"lab\"][\"title\"] #lab that submitted the experiment\n",
        "  biosample = data[\"biosample_ontology\"][\"term_name\"] #short name of biosample\n",
        "  tf = data[\"target\"][\"label\"] #target of the assay, i.e. TF\n",
        "\n",
        "  bam = \"NA\"\n",
        "  numReads = \"NA\"\n",
        "  replicate = \"NA\"\n",
        "\n",
        "  for entry in data[\"files\"]: #loops through files associated with experiment\n",
        "    if entry[\"file_type\"] == \"bam\" and entry[\"status\"] == \"released\" \\\n",
        "      and entry[\"assembly\"] == genome and entry[\"output_type\"] == \"alignments\":\n",
        "\n",
        "      bam = entry[\"accession\"] #bam file\n",
        "      #Download_File(bam, \"bam\", \"/data/output\")\n",
        "      replicate = \",\".join([str(i) for i in entry[\"biological_replicates\"]])\n",
        "\n",
        "      for qc in entry[\"quality_metrics\"]:\n",
        "        if \"mapped_reads\" in qc:\n",
        "          numReads = qc[\"mapped_reads\"]\n",
        "\n",
        "      for pipeline in entry[\"analyses\"]:\n",
        "        if pipeline[\"status\"] == \"released\":\n",
        "          print(exp + \"\\t\" + bam +\"\\t\" + replicate + \"\\t\" + biosample + \"\\t\"+ \\\n",
        "                tf +\"\\t\" + rfa +\"\\t\"+ lab + \"\\t\" + str(numReads))\n"
      ]
    },
    {
      "cell_type": "code",
      "source": [
        "## Parameters\n",
        "genome = \"GRCh38\"\n",
        "species = \"Homo+sapiens\"\n",
        "\n",
        "## Build query\n",
        "urlMain = \"https://www.encodeproject.org/search/?type=Experiment&status=released\" + \\\n",
        "    \"&perturbed=false&perturbed=true&assay_title=TF+ChIP-seq\" + \\\n",
        "    \"&replicates.library.biosample.donor.organism.scientific_name=\" + species + \\\n",
        "    \"&format=json&limit=50\" #update limit=all for all datasets\n",
        "\n",
        "response = urllib.request.urlopen(urlMain)\n",
        "data = json.loads(response.read())\n",
        "\n",
        "print(\"experiment_accession\" + \"\\t\" + \"bam_accession\" + \"\\t\" + \"replicate\" + \\\n",
        "      \"\\t\" + \"biosample\" + \"\\t\" + \"tf\" + \"\\t\" + \"rfa\" +\"\\t\"+ \"lab\" + \"\\t\" + \\\n",
        "      \"number_reads\")\n",
        "\n",
        "for entry in data[\"@graph\"]: #loops through experiments\n",
        "  Extract_Experiment_Metatdata(entry[\"accession\"], genome)"
      ],
      "metadata": {
        "colab": {
          "base_uri": "https://localhost:8080/"
        },
        "id": "gr_HWYHDKDBH",
        "outputId": "06f07116-bdf3-475e-88da-339d286f3cc1"
      },
      "execution_count": 22,
      "outputs": [
        {
          "output_type": "stream",
          "name": "stdout",
          "text": [
            "experiment_accession\tbam_accession\treplicate\tbiosample\ttf\trfa\tlab\tnumber_reads\n",
            "ENCSR506SSQ\tENCFF280CMY\t1\tK562\tZNF354C\tENCODE4\tMichael Snyder, Stanford\t58697182\n",
            "ENCSR506SSQ\tENCFF682BHG\t2\tK562\tZNF354C\tENCODE4\tMichael Snyder, Stanford\t57255972\n",
            "ENCSR423MQG\tENCFF728WAR\t1\tbrain\tCTCF\tENCODE4\tBradley Bernstein, Broad\t18384265\n",
            "ENCSR427WZJ\tENCFF824EZV\t2\tK562\tZNF143\tENCODE4\tRichard Myers, HAIB\t23929372\n",
            "ENCSR427WZJ\tENCFF115IEU\t1\tK562\tZNF143\tENCODE4\tRichard Myers, HAIB\t28121139\n",
            "ENCSR159RBE\tENCFF940GKH\t2\tHepG2\tGLYR1\tENCODE4\tRichard Myers, HAIB\t37776022\n",
            "ENCSR159RBE\tENCFF438DBB\t1\tHepG2\tGLYR1\tENCODE4\tRichard Myers, HAIB\t25896403\n",
            "ENCSR015LYB\tENCFF741MBT\t2\tHepG2\tHIC2\tENCODE4\tRichard Myers, HAIB\t19921844\n",
            "ENCSR015LYB\tENCFF678WPD\t1\tHepG2\tHIC2\tENCODE4\tRichard Myers, HAIB\t34446310\n",
            "ENCSR279OXE\tENCFF026KCW\t1\tK562\tZFP30\tENCODE4\tMichael Snyder, Stanford\t46192754\n",
            "ENCSR279OXE\tENCFF573IHA\t2\tK562\tZFP30\tENCODE4\tMichael Snyder, Stanford\t86042260\n",
            "ENCSR208VNN\tENCFF748UJX\t1\tK562\tIFI16\tENCODE4\tMichael Snyder, Stanford\t54452602\n",
            "ENCSR208VNN\tENCFF655CJO\t2\tK562\tIFI16\tENCODE4\tMichael Snyder, Stanford\t53267664\n",
            "ENCSR579XWM\tENCFF376FSG\t1\tK562\tHSF4\tENCODE4\tMichael Snyder, Stanford\t52775096\n",
            "ENCSR579XWM\tENCFF330BXC\t2\tK562\tHSF4\tENCODE4\tMichael Snyder, Stanford\t60625940\n",
            "ENCSR499FDW\tENCFF264HLO\t1\tWTC11\tZSCAN18\tENCODE4\tMichael Snyder, Stanford\t48542822\n",
            "ENCSR499FDW\tENCFF323FUG\t2\tWTC11\tZSCAN18\tENCODE4\tMichael Snyder, Stanford\t47198796\n",
            "ENCSR413CVQ\tENCFF515BJN\t1\tWTC11\tZNF423\tENCODE4\tMichael Snyder, Stanford\t43092394\n",
            "ENCSR413CVQ\tENCFF397AOB\t2\tWTC11\tZNF423\tENCODE4\tMichael Snyder, Stanford\t48631608\n",
            "ENCSR659YWQ\tENCFF732HWU\t1\tK562\tZNF449\tENCODE4\tMichael Snyder, Stanford\t57779078\n",
            "ENCSR659YWQ\tENCFF018NWF\t2\tK562\tZNF449\tENCODE4\tMichael Snyder, Stanford\t56202674\n",
            "ENCSR066EWR\tENCFF394KIH\t1\tHepG2\tZMYM2\tENCODE4\tRichard Myers, HAIB\t23333810\n",
            "ENCSR066EWR\tENCFF374KFT\t2\tHepG2\tZMYM2\tENCODE4\tRichard Myers, HAIB\t24494024\n",
            "ENCSR623TZE\tENCFF174GIJ\t1\tWTC11\tSMAD4\tENCODE4\tRichard Myers, HAIB\t31214531\n",
            "ENCSR623TZE\tENCFF950CZH\t2\tWTC11\tSMAD4\tENCODE4\tRichard Myers, HAIB\t27893654\n",
            "ENCSR659CCI\tENCFF981NOA\t2\tK562\tFOXK1\tENCODE4\tRichard Myers, HAIB\t39954625\n",
            "ENCSR659CCI\tENCFF716XGK\t1\tK562\tFOXK1\tENCODE4\tRichard Myers, HAIB\t34361827\n",
            "ENCSR228ELU\tENCFF872HPF\t2\tK562\tTEAD1\tENCODE4\tRichard Myers, HAIB\t31358680\n",
            "ENCSR228ELU\tENCFF932FOK\t1\tK562\tTEAD1\tENCODE4\tRichard Myers, HAIB\t28838177\n",
            "ENCSR939CDD\tENCFF103GBM\t1\tK562\tARID4B\tENCODE4\tRichard Myers, HAIB\t26833626\n",
            "ENCSR939CDD\tENCFF041EBZ\t2\tK562\tARID4B\tENCODE4\tRichard Myers, HAIB\t29488668\n",
            "ENCSR530WIV\tENCFF073IMU\t1\tK562\tFOXP1\tENCODE4\tRichard Myers, HAIB\t24278969\n",
            "ENCSR530WIV\tENCFF623IVK\t2\tK562\tFOXP1\tENCODE4\tRichard Myers, HAIB\t28824061\n",
            "ENCSR946WBN\tENCFF545EZW\t2\tK562\tJUN\tENCODE4\tRichard Myers, HAIB\t26674125\n",
            "ENCSR946WBN\tENCFF620LMU\t1\tK562\tJUN\tENCODE4\tRichard Myers, HAIB\t29147754\n",
            "ENCSR788DXU\tENCFF275RQB\t2\tK562\tFOXA3\tENCODE4\tRichard Myers, HAIB\t28800340\n",
            "ENCSR788DXU\tENCFF804ITG\t1\tK562\tFOXA3\tENCODE4\tRichard Myers, HAIB\t44968781\n",
            "ENCSR817FMN\tENCFF217UCM\t2\tK562\tTEAD4\tENCODE4\tRichard Myers, HAIB\t37012895\n",
            "ENCSR817FMN\tENCFF919CDT\t1\tK562\tTEAD4\tENCODE4\tRichard Myers, HAIB\t31922856\n",
            "ENCSR158LJN\tENCFF428YJS\t1\tK562\tMAX\tENCODE4\tRichard Myers, HAIB\t29389665\n",
            "ENCSR158LJN\tENCFF870SUX\t2\tK562\tMAX\tENCODE4\tRichard Myers, HAIB\t34707358\n",
            "ENCSR787CHF\tENCFF100RAQ\t1\tK562\tUSF1\tENCODE4\tRichard Myers, HAIB\t50148232\n",
            "ENCSR787CHF\tENCFF550KSJ\t2\tK562\tUSF1\tENCODE4\tRichard Myers, HAIB\t30495365\n",
            "ENCSR347HAM\tENCFF878RXA\t1\tHepG2\tZNF221\tENCODE4\tRichard Myers, HAIB\t32835932\n",
            "ENCSR347HAM\tENCFF014YCL\t2\tHepG2\tZNF221\tENCODE4\tRichard Myers, HAIB\t32546390\n",
            "ENCSR903JFF\tENCFF232CLF\t1\tHepG2\tZNF605\tENCODE4\tRichard Myers, HAIB\t32157922\n",
            "ENCSR903JFF\tENCFF174HYA\t2\tHepG2\tZNF605\tENCODE4\tRichard Myers, HAIB\t34867024\n",
            "ENCSR170AMG\tENCFF366KRE\t1\tHepG2\tFOXC1\tENCODE4\tRichard Myers, HAIB\t33187653\n",
            "ENCSR170AMG\tENCFF640PBL\t2\tHepG2\tFOXC1\tENCODE4\tRichard Myers, HAIB\t29183022\n",
            "ENCSR905BNO\tENCFF644ZES\t1\tHepG2\tZNF816\tENCODE4\tRichard Myers, HAIB\t31386893\n",
            "ENCSR905BNO\tENCFF753BON\t2\tHepG2\tZNF816\tENCODE4\tRichard Myers, HAIB\t27711803\n",
            "ENCSR631JFU\tENCFF803KXV\t1\tHepG2\tIRF9\tENCODE4\tRichard Myers, HAIB\t27971521\n",
            "ENCSR631JFU\tENCFF688IHI\t2\tHepG2\tIRF9\tENCODE4\tRichard Myers, HAIB\t29141883\n",
            "ENCSR268XPQ\tENCFF805GIT\t1\tHepG2\tTCF12\tENCODE4\tRichard Myers, HAIB\t25385942\n",
            "ENCSR268XPQ\tENCFF888NLH\t2\tHepG2\tTCF12\tENCODE4\tRichard Myers, HAIB\t28837651\n",
            "ENCSR849LXI\tENCFF742HNE\t1\tK562\tMTF1\tENCODE4\tMichael Snyder, Stanford\t70092164\n",
            "ENCSR849LXI\tENCFF403HLD\t2\tK562\tMTF1\tENCODE4\tMichael Snyder, Stanford\t62613734\n",
            "ENCSR377HQG\tENCFF797KCR\t1\tK562\tZNF140\tENCODE4\tMichael Snyder, Stanford\t65222084\n",
            "ENCSR377HQG\tENCFF607UEL\t2\tK562\tZNF140\tENCODE4\tMichael Snyder, Stanford\t56700454\n",
            "ENCSR307YJU\tENCFF853SFF\t2\tK562\tMYNN\tENCODE4\tMichael Snyder, Stanford\t63174816\n",
            "ENCSR307YJU\tENCFF975SSN\t1\tK562\tMYNN\tENCODE4\tMichael Snyder, Stanford\t62818344\n",
            "ENCSR567QAD\tENCFF135MVA\t1\tK562\tZBTB34\tENCODE4\tMichael Snyder, Stanford\t64119612\n",
            "ENCSR567QAD\tENCFF920UOH\t2\tK562\tZBTB34\tENCODE4\tMichael Snyder, Stanford\t47726914\n",
            "ENCSR303SHG\tENCFF308GKK\t1\tK562\tZNF699\tENCODE4\tMichael Snyder, Stanford\t62447866\n",
            "ENCSR303SHG\tENCFF669IPM\t2\tK562\tZNF699\tENCODE4\tMichael Snyder, Stanford\t68887384\n",
            "ENCSR948JND\tENCFF917WGI\t1\tK562\tZNF398\tENCODE4\tMichael Snyder, Stanford\t67611858\n",
            "ENCSR948JND\tENCFF809MDN\t2\tK562\tZNF398\tENCODE4\tMichael Snyder, Stanford\t58751042\n",
            "ENCSR026RAK\tENCFF138KAN\t1\tK562\tMXD1\tENCODE4\tMichael Snyder, Stanford\t48076288\n",
            "ENCSR026RAK\tENCFF963WUS\t2\tK562\tMXD1\tENCODE4\tMichael Snyder, Stanford\t50544896\n",
            "ENCSR620MHD\tENCFF393IAY\t2\tK562\tKDM2B\tENCODE4\tMichael Snyder, Stanford\t51681108\n",
            "ENCSR620MHD\tENCFF406WNK\t1\tK562\tKDM2B\tENCODE4\tMichael Snyder, Stanford\t59885890\n",
            "ENCSR023IPQ\tENCFF462KFV\t1\tWTC11\tPRRX2\tENCODE4\tMichael Snyder, Stanford\t62311452\n",
            "ENCSR023IPQ\tENCFF955BOS\t2\tWTC11\tPRRX2\tENCODE4\tMichael Snyder, Stanford\t56613890\n",
            "ENCSR127NBZ\tENCFF966HMI\t1\tWTC11\tERG\tENCODE4\tMichael Snyder, Stanford\t64525070\n",
            "ENCSR127NBZ\tENCFF687RHZ\t2\tWTC11\tERG\tENCODE4\tMichael Snyder, Stanford\t65740982\n",
            "ENCSR440UPD\tENCFF377JAS\t1\tWTC11\tEMX1\tENCODE4\tMichael Snyder, Stanford\t52956594\n",
            "ENCSR440UPD\tENCFF344DND\t2\tWTC11\tEMX1\tENCODE4\tMichael Snyder, Stanford\t68133346\n",
            "ENCSR260GQA\tENCFF688BJA\t2\tWTC11\tZNF671\tENCODE4\tMichael Snyder, Stanford\t67489776\n",
            "ENCSR260GQA\tENCFF778JNF\t1\tWTC11\tZNF671\tENCODE4\tMichael Snyder, Stanford\t58905424\n",
            "ENCSR995CFS\tENCFF328USS\t1\tA549\tHEYL\tENCODE4\tMichael Snyder, Stanford\t48417456\n",
            "ENCSR995CFS\tENCFF126ZKI\t2\tA549\tHEYL\tENCODE4\tMichael Snyder, Stanford\t54390138\n",
            "ENCSR008LHT\tENCFF710AJF\t1\tSK-N-SH\tISL1\tENCODE4\tMichael Snyder, Stanford\t66987944\n",
            "ENCSR008LHT\tENCFF446UAF\t2\tSK-N-SH\tISL1\tENCODE4\tMichael Snyder, Stanford\t59799074\n",
            "ENCSR803FIV\tENCFF501SCN\t1\tWTC11\tMXD4\tENCODE4\tMichael Snyder, Stanford\t55426222\n",
            "ENCSR803FIV\tENCFF054NWA\t2\tWTC11\tMXD4\tENCODE4\tMichael Snyder, Stanford\t65267918\n",
            "ENCSR422ODX\tENCFF147TQE\t1\tWTC11\tZNF396\tENCODE4\tMichael Snyder, Stanford\t57516012\n",
            "ENCSR422ODX\tENCFF491XNC\t2\tWTC11\tZNF396\tENCODE4\tMichael Snyder, Stanford\t58998526\n",
            "ENCSR922YDT\tENCFF576HIM\t1\tK562\tSLC30A9\tENCODE4\tMichael Snyder, Stanford\t52115640\n",
            "ENCSR922YDT\tENCFF685XLQ\t2\tK562\tSLC30A9\tENCODE4\tMichael Snyder, Stanford\t55988918\n",
            "ENCSR576AMK\tENCFF528SVR\t1\tK562\tPPARD\tENCODE4\tMichael Snyder, Stanford\t55739390\n",
            "ENCSR576AMK\tENCFF613DUH\t2\tK562\tPPARD\tENCODE4\tMichael Snyder, Stanford\t60473826\n",
            "ENCSR567NTZ\tENCFF470AOM\t1\tK562\tTCF15\tENCODE4\tMichael Snyder, Stanford\t67104796\n",
            "ENCSR567NTZ\tENCFF257NVZ\t2\tK562\tTCF15\tENCODE4\tMichael Snyder, Stanford\t67965720\n",
            "ENCSR077TKJ\tENCFF005NOW\t1\tK562\tZNF707\tENCODE4\tMichael Snyder, Stanford\t72821634\n",
            "ENCSR077TKJ\tENCFF495PKN\t2\tK562\tZNF707\tENCODE4\tMichael Snyder, Stanford\t62555622\n",
            "ENCSR089NBS\tENCFF834STJ\t1\theart right ventricle\tCTCF\tENCODE4\tBradley Bernstein, Broad\t56178678\n",
            "ENCSR323ZAP\tENCFF548QMG\t1\theart right ventricle\tCTCF\tENCODE4\tBradley Bernstein, Broad\t54549319\n"
          ]
        }
      ]
    }
  ]
}
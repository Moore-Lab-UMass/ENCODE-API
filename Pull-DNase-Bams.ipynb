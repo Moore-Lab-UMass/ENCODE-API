{
  "nbformat": 4,
  "nbformat_minor": 0,
  "metadata": {
    "colab": {
      "name": "Pull-DNase-Bams.ipynb",
      "provenance": [],
      "authorship_tag": "ABX9TyOPWt+82xPbTCN5aa20+aGW",
      "include_colab_link": true
    },
    "kernelspec": {
      "name": "python3",
      "display_name": "Python 3"
    },
    "language_info": {
      "name": "python"
    }
  },
  "cells": [
    {
      "cell_type": "markdown",
      "metadata": {
        "id": "view-in-github",
        "colab_type": "text"
      },
      "source": [
        "<a href=\"https://colab.research.google.com/github/Moore-Lab-UMass/ENCODE-API/blob/main/Pull-DNase-Bams.ipynb\" target=\"_parent\"><img src=\"https://colab.research.google.com/assets/colab-badge.svg\" alt=\"Open In Colab\"/></a>"
      ]
    },
    {
      "cell_type": "code",
      "source": [
        "#Jill E. Moore\n",
        "#Moore Lab - UMass Chan Medical School\n",
        "#May 2022\n",
        "\n",
        "import os\n",
        "import json\n",
        "import urllib\n",
        "from urllib import request, parse, error\n",
        "import requests"
      ],
      "metadata": {
        "id": "bJChV8-FJu0k"
      },
      "execution_count": 6,
      "outputs": []
    },
    {
      "cell_type": "code",
      "source": [
        "def Download_File(name, extension, outputDir): #downloads file to local machine\n",
        "    if not os.path.exists(outputDir+\"/\"+name+\".\"+extension):\n",
        "        url=\"https://www.encodeproject.org/files/\"+name+\"/@@download/\"+name+\".\"+extension\n",
        "        r = requests.get(url)\n",
        "        outputFile=open(outputDir+\"/\"+name+\".\"+extension, \"wb\")\n",
        "        outputFile.write(r.content)\n",
        "        outputFile.close()"
      ],
      "metadata": {
        "id": "SQP5u0jwJ9jh"
      },
      "execution_count": 7,
      "outputs": []
    },
    {
      "cell_type": "code",
      "execution_count": 5,
      "metadata": {
        "id": "BFUsSTWg9Smx"
      },
      "outputs": [],
      "source": [
        "def Extract_Experiment_Metatdata(exp, genome): #extracts experiment metadata\n",
        "  urlExp = \"https://www.encodeproject.org/experiments/\"+exp+\"/?format=json\"\n",
        "  response = urllib.request.urlopen(urlExp)\n",
        "  data = json.loads(response.read())\n",
        "\n",
        "  rfa = data[\"award\"][\"rfa\"] #project/phase of encode\n",
        "  lab = data[\"lab\"][\"title\"] #lab that submitted the experiment\n",
        "  biosample = data[\"biosample_ontology\"][\"term_name\"] #short name of biosample\n",
        "\n",
        "  bam = \"NA\"\n",
        "  numReads = \"NA\"\n",
        "  replicate = \"NA\"\n",
        "\n",
        "  for entry in data[\"files\"]: #loops through files associated with experiment\n",
        "    if entry[\"file_type\"] == \"bam\" and entry[\"status\"] == \"released\" \\\n",
        "      and entry[\"assembly\"] == genome and entry[\"output_type\"] == \"alignments\":\n",
        "\n",
        "      bam = entry[\"accession\"] #bam file\n",
        "      #Download_File(bam, \"bam\", \"/data/output\")\n",
        "\n",
        "      replicate = \",\".join([str(i) for i in entry[\"biological_replicates\"]])\n",
        "      for qc in entry[\"quality_metrics\"]:\n",
        "        if \"mapped\" in qc:\n",
        "          numReads = qc[\"mapped\"]\n",
        "\n",
        "      for pipeline in entry[\"analyses\"]:\n",
        "        if pipeline[\"status\"] == \"released\":\n",
        "          print(exp + \"\\t\" + bam +\"\\t\" + replicate + \"\\t\" + biosample + \"\\t\" + \\\n",
        "                rfa +\"\\t\"+ lab + \"\\t\" + str(numReads))\n"
      ]
    },
    {
      "cell_type": "code",
      "source": [
        "## Parameters\n",
        "genome = \"GRCh38\"\n",
        "species = \"Homo+sapiens\"\n",
        "\n",
        "## Build query\n",
        "urlMain = \"https://www.encodeproject.org/search/?type=Experiment&status=released\" + \\\n",
        "    \"&perturbed=false&perturbed=true&assay_title=DNase-seq\" + \\\n",
        "    \"&replicates.library.biosample.donor.organism.scientific_name=\" + species + \\\n",
        "    \"&format=json&limit=50\" #update limit=all for all datasets\n",
        "\n",
        "response = urllib.request.urlopen(urlMain)\n",
        "data = json.loads(response.read())\n",
        "\n",
        "print(\"experiment_accession\" + \"\\t\" + \"bam_accession\" + \"\\t\" + \"replicate\" \"\\t\" + \"biosample\" + \\\n",
        "        \"\\t\" + \"rfa\" +\"\\t\"+ \"lab\" + \"\\t\" + \"number_reads\")\n",
        "\n",
        "for entry in data[\"@graph\"]: #loops through experiments\n",
        "  Extract_Experiment_Metatdata(entry[\"accession\"], genome)"
      ],
      "metadata": {
        "colab": {
          "base_uri": "https://localhost:8080/"
        },
        "id": "gr_HWYHDKDBH",
        "outputId": "3c7fc6bd-7996-4bb2-97af-302f0514fefa"
      },
      "execution_count": 8,
      "outputs": [
        {
          "output_type": "stream",
          "name": "stdout",
          "text": [
            "experiment_accession\tbam_accession\treplicate\tbiosample\trfa\tlab\tnumber_reads\n",
            "ENCSR799GSS\tENCFF091EIA\t1\tHCT116\tENCODE4\tJohn Stamatoyannopoulos, UW\t101025218\n",
            "ENCSR163KCQ\tENCFF749NBS\t1\tHCT116\tENCODE4\tJohn Stamatoyannopoulos, UW\t151127322\n",
            "ENCSR975SCL\tENCFF866CNH\t1\tHCT116\tENCODE4\tJohn Stamatoyannopoulos, UW\t211482144\n",
            "ENCSR129EWE\tENCFF009SUB\t1\tHCT116\tENCODE4\tJohn Stamatoyannopoulos, UW\t176879358\n",
            "ENCSR980GWI\tENCFF766VMY\t1\tHCT116\tENCODE4\tJohn Stamatoyannopoulos, UW\t150321310\n",
            "ENCSR867ITQ\tENCFF801KAM\t1\tHCT116\tENCODE4\tJohn Stamatoyannopoulos, UW\t427815930\n",
            "ENCSR690ADK\tENCFF523QDP\t1\tHCT116\tENCODE4\tJohn Stamatoyannopoulos, UW\t412241576\n",
            "ENCSR542UWN\tENCFF625QWI\t1\tHCT116\tENCODE4\tJohn Stamatoyannopoulos, UW\t136754324\n",
            "ENCSR694YJR\tENCFF213KGB\t1\tHCT116\tENCODE4\tJohn Stamatoyannopoulos, UW\t179509764\n",
            "ENCSR694YJR\tENCFF191GDK\t2\tHCT116\tENCODE4\tJohn Stamatoyannopoulos, UW\t113278480\n",
            "ENCSR011VHK\tENCFF528VKG\t1\tnaive B cell\tENCODE4\tJohn Stamatoyannopoulos, UW\t107926552\n",
            "ENCSR794KUS\tENCFF900TQP\t1\tnaive thymus-derived CD4-positive, alpha-beta T cell\tENCODE4\tJohn Stamatoyannopoulos, UW\t123549402\n",
            "ENCSR017SBI\tENCFF052ZPU\t1\tnaive B cell\tENCODE4\tJohn Stamatoyannopoulos, UW\t97767326\n",
            "ENCSR938OKL\tENCFF114KWN\t1\tnaive thymus-derived CD8-positive, alpha-beta T cell\tENCODE4\tJohn Stamatoyannopoulos, UW\t134132458\n",
            "ENCSR614NSH\tENCFF189WRG\t1\tnaive thymus-derived CD4-positive, alpha-beta T cell\tENCODE4\tJohn Stamatoyannopoulos, UW\t104768802\n",
            "ENCSR326TID\tENCFF677UZD\t1\tnaive B cell\tENCODE4\tJohn Stamatoyannopoulos, UW\t100133198\n",
            "ENCSR012RCX\tENCFF223ULN\t1\timmature natural killer cell\tENCODE4\tJohn Stamatoyannopoulos, UW\t124351190\n",
            "ENCSR400YJR\tENCFF054KSC\t1\tnaive thymus-derived CD8-positive, alpha-beta T cell\tENCODE4\tJohn Stamatoyannopoulos, UW\t210376762\n",
            "ENCSR302MYX\tENCFF797SND\t1\tnaive thymus-derived CD4-positive, alpha-beta T cell\tENCODE4\tJohn Stamatoyannopoulos, UW\t153239342\n",
            "ENCSR526TFD\tENCFF827CMG\t1\tCD4-positive, alpha-beta memory T cell\tENCODE4\tJohn Stamatoyannopoulos, UW\t101365528\n",
            "ENCSR654LST\tENCFF799DXW\t1\timmature natural killer cell\tENCODE4\tJohn Stamatoyannopoulos, UW\t192359018\n",
            "ENCSR068KDQ\tENCFF397TGY\t1\tnaive thymus-derived CD8-positive, alpha-beta T cell\tENCODE4\tJohn Stamatoyannopoulos, UW\t177337000\n",
            "ENCSR181OGW\tENCFF653TPH\t1\tnaive thymus-derived CD4-positive, alpha-beta T cell\tENCODE4\tJohn Stamatoyannopoulos, UW\t148323476\n",
            "ENCSR977UMU\tENCFF686VLF\t1\tCD4-positive, alpha-beta memory T cell\tENCODE4\tJohn Stamatoyannopoulos, UW\t140483772\n",
            "ENCSR295UXT\tENCFF765ILT\t1\tCD8-positive, alpha-beta memory T cell\tENCODE4\tJohn Stamatoyannopoulos, UW\t138598112\n",
            "ENCSR304CXS\tENCFF441XFT\t1\tnaive thymus-derived CD4-positive, alpha-beta T cell\tENCODE4\tJohn Stamatoyannopoulos, UW\t141024648\n",
            "ENCSR862ZDV\tENCFF740KCH\t1\tCD4-positive, alpha-beta memory T cell\tENCODE4\tJohn Stamatoyannopoulos, UW\t151252458\n",
            "ENCSR696ZDW\tENCFF404EOG\t1\timmature natural killer cell\tENCODE4\tJohn Stamatoyannopoulos, UW\t141657958\n",
            "ENCSR534RXN\tENCFF363YTA\t1\tCD4-positive, CD25-positive, alpha-beta regulatory T cell\tENCODE4\tJohn Stamatoyannopoulos, UW\t187557060\n",
            "ENCSR796PIM\tENCFF131MPK\t1\tnaive B cell\tENCODE4\tJohn Stamatoyannopoulos, UW\t138902542\n",
            "ENCSR811COL\tENCFF854AQT\t1\tHCT116\tENCODE4\tJohn Stamatoyannopoulos, UW\t110781396\n",
            "ENCSR521WNU\tENCFF530NTY\t1\tHCT116\tENCODE4\tJohn Stamatoyannopoulos, UW\t127026208\n",
            "ENCSR875IVR\tENCFF995UVE\t1\tnaive thymus-derived CD4-positive, alpha-beta T cell\tENCODE4\tJohn Stamatoyannopoulos, UW\t116670220\n",
            "ENCSR437PXY\tENCFF714KUG\t1\tCD4-positive, alpha-beta memory T cell\tENCODE4\tJohn Stamatoyannopoulos, UW\t112632836\n",
            "ENCSR184TUE\tENCFF967UEJ\t1\tnaive B cell\tENCODE4\tJohn Stamatoyannopoulos, UW\t123291334\n",
            "ENCSR560MXA\tENCFF633EYK\t1\tT-cell\tENCODE4\tJohn Stamatoyannopoulos, UW\t99455670\n",
            "ENCSR736VVP\tENCFF784VSB\t1\tmemory B cell\tENCODE4\tJohn Stamatoyannopoulos, UW\t171303084\n",
            "ENCSR917BSW\tENCFF438VZH\t1\tstimulated activated effector memory CD8-positive, alpha-beta T cell\tENCODE4\tJohn Stamatoyannopoulos, UW\t278435866\n",
            "ENCSR229BGG\tENCFF731UJO\t1\tmemory B cell\tENCODE4\tJohn Stamatoyannopoulos, UW\t115398004\n",
            "ENCSR208YDK\tENCFF960DOV\t1\tstimulated activated naive CD8-positive, alpha-beta T cell\tENCODE4\tJohn Stamatoyannopoulos, UW\t118903658\n",
            "ENCSR794TLA\tENCFF356WSQ\t1\tnatural killer cell\tENCODE4\tJohn Stamatoyannopoulos, UW\t171333034\n",
            "ENCSR515PDV\tENCFF030PNE\t1\tactivated naive CD4-positive, alpha-beta T cell\tENCODE4\tJohn Stamatoyannopoulos, UW\t160810622\n",
            "ENCSR940CXU\tENCFF953MMX\t1\tendodermal cell\tENCODE4\tJohn Stamatoyannopoulos, UW\t339043998\n",
            "ENCSR109DTU\tENCFF855BXL\t1\tactivated B cell\tENCODE4\tJohn Stamatoyannopoulos, UW\t109146626\n",
            "ENCSR636DIR\tENCFF528SLH\t1\tactivated T-helper 1 cell\tENCODE4\tJohn Stamatoyannopoulos, UW\t104274568\n"
          ]
        }
      ]
    }
  ]
}